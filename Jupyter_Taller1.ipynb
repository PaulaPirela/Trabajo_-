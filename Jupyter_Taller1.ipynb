{
 "cells": [
  {
   "cell_type": "code",
   "execution_count": 1,
   "id": "b48aadd4",
   "metadata": {},
   "outputs": [
    {
     "name": "stdout",
     "output_type": "stream",
     "text": [
      "Starting Spark application\n"
     ]
    },
    {
     "data": {
      "text/html": [
       "<table>\n",
       "<tr><th>ID</th><th>YARN Application ID</th><th>Kind</th><th>State</th><th>Spark UI</th><th>Driver log</th><th>User</th><th>Current session?</th></tr><tr><td>3</td><td>application_1725723616900_0004</td><td>pyspark</td><td>idle</td><td><a target=\"_blank\" href=\"http://ip-172-31-94-111.ec2.internal:20888/proxy/application_1725723616900_0004/\">Link</a></td><td><a target=\"_blank\" href=\"http://ip-172-31-90-186.ec2.internal:8042/node/containerlogs/container_1725723616900_0004_01_000001/livy\">Link</a></td><td>None</td><td>✔</td></tr></table>"
      ],
      "text/plain": [
       "<IPython.core.display.HTML object>"
      ]
     },
     "metadata": {},
     "output_type": "display_data"
    },
    {
     "data": {
      "application/vnd.jupyter.widget-view+json": {
       "model_id": "",
       "version_major": 2,
       "version_minor": 0
      },
      "text/plain": [
       "FloatProgress(value=0.0, bar_style='info', description='Progress:', layout=Layout(height='25px', width='50%'),…"
      ]
     },
     "metadata": {},
     "output_type": "display_data"
    },
    {
     "name": "stdout",
     "output_type": "stream",
     "text": [
      "SparkSession available as 'spark'.\n"
     ]
    },
    {
     "data": {
      "application/vnd.jupyter.widget-view+json": {
       "model_id": "",
       "version_major": 2,
       "version_minor": 0
      },
      "text/plain": [
       "FloatProgress(value=0.0, bar_style='info', description='Progress:', layout=Layout(height='25px', width='50%'),…"
      ]
     },
     "metadata": {},
     "output_type": "display_data"
    },
    {
     "name": "stdout",
     "output_type": "stream",
     "text": [
      "<pyspark.sql.session.SparkSession object at 0x7f3d29147890>"
     ]
    }
   ],
   "source": [
    "# Se nombra los datos sobre los cuales vamos a trabajar\n",
    "spark"
   ]
  },
  {
   "cell_type": "code",
   "execution_count": 2,
   "id": "b7a2e73d",
   "metadata": {},
   "outputs": [
    {
     "data": {
      "application/vnd.jupyter.widget-view+json": {
       "model_id": "",
       "version_major": 2,
       "version_minor": 0
      },
      "text/plain": [
       "FloatProgress(value=0.0, bar_style='info', description='Progress:', layout=Layout(height='25px', width='50%'),…"
      ]
     },
     "metadata": {},
     "output_type": "display_data"
    },
    {
     "name": "stdout",
     "output_type": "stream",
     "text": [
      "<SparkContext master=yarn appName=livy-session-3>"
     ]
    }
   ],
   "source": [
    "# SC = Spark Context\n",
    "sc"
   ]
  },
  {
   "cell_type": "code",
   "execution_count": 3,
   "id": "dca3e8e3",
   "metadata": {},
   "outputs": [
    {
     "data": {
      "application/vnd.jupyter.widget-view+json": {
       "model_id": "",
       "version_major": 2,
       "version_minor": 0
      },
      "text/plain": [
       "FloatProgress(value=0.0, bar_style='info', description='Progress:', layout=Layout(height='25px', width='50%'),…"
      ]
     },
     "metadata": {},
     "output_type": "display_data"
    }
   ],
   "source": [
    "# Se usa para mostrar la base de datos df es la función. Spark.sql es para decir en qué lenguaje se va a hacer el query\n",
    "df = spark.sql(\"Show databases\") "
   ]
  },
  {
   "cell_type": "code",
   "execution_count": 4,
   "id": "69829547",
   "metadata": {},
   "outputs": [
    {
     "data": {
      "application/vnd.jupyter.widget-view+json": {
       "model_id": "",
       "version_major": 2,
       "version_minor": 0
      },
      "text/plain": [
       "FloatProgress(value=0.0, bar_style='info', description='Progress:', layout=Layout(height='25px', width='50%'),…"
      ]
     },
     "metadata": {},
     "output_type": "display_data"
    },
    {
     "name": "stdout",
     "output_type": "stream",
     "text": [
      "+-------------+\n",
      "|    namespace|\n",
      "+-------------+\n",
      "| `db-taller1`|\n",
      "|      default|\n",
      "|   `labs- db`|\n",
      "|myspectrum_db|\n",
      "+-------------+"
     ]
    }
   ],
   "source": [
    "# Muestra las bases de datos consultadas anteriormente (estás son las de Glue).\n",
    "df.show()"
   ]
  },
  {
   "cell_type": "code",
   "execution_count": 5,
   "id": "c67e46b7",
   "metadata": {},
   "outputs": [
    {
     "data": {
      "application/vnd.jupyter.widget-view+json": {
       "model_id": "",
       "version_major": 2,
       "version_minor": 0
      },
      "text/plain": [
       "FloatProgress(value=0.0, bar_style='info', description='Progress:', layout=Layout(height='25px', width='50%'),…"
      ]
     },
     "metadata": {},
     "output_type": "display_data"
    },
    {
     "name": "stdout",
     "output_type": "stream",
     "text": [
      "DataFrame[key: string, value: string]"
     ]
    }
   ],
   "source": [
    "# Conociendo tipo de variables\n",
    "spark.sql(\"SET hive.mapred.supports.subdirectories=true\")\n",
    "spark.sql(\"SET mapreduce.input.fileinputformat.input.dir.recursive=true\")\n",
    " "
   ]
  },
  {
   "cell_type": "code",
   "execution_count": 6,
   "id": "add6c4a9",
   "metadata": {},
   "outputs": [
    {
     "data": {
      "application/vnd.jupyter.widget-view+json": {
       "model_id": "",
       "version_major": 2,
       "version_minor": 0
      },
      "text/plain": [
       "FloatProgress(value=0.0, bar_style='info', description='Progress:', layout=Layout(height='25px', width='50%'),…"
      ]
     },
     "metadata": {},
     "output_type": "display_data"
    }
   ],
   "source": [
    "# Aquí se llama el database a utilizar desde Glue\n",
    "db_glue = spark.sql(\"use myspectrum_db\") "
   ]
  },
  {
   "cell_type": "code",
   "execution_count": 7,
   "id": "86263d8b",
   "metadata": {},
   "outputs": [
    {
     "data": {
      "application/vnd.jupyter.widget-view+json": {
       "model_id": "",
       "version_major": 2,
       "version_minor": 0
      },
      "text/plain": [
       "FloatProgress(value=0.0, bar_style='info', description='Progress:', layout=Layout(height='25px', width='50%'),…"
      ]
     },
     "metadata": {},
     "output_type": "display_data"
    }
   ],
   "source": [
    "# Se llama la tabla del dataset\n",
    "db_table = spark.sql(\"show tables in myspectrum_db\") "
   ]
  },
  {
   "cell_type": "code",
   "execution_count": 8,
   "id": "5c636d04",
   "metadata": {},
   "outputs": [
    {
     "data": {
      "application/vnd.jupyter.widget-view+json": {
       "model_id": "",
       "version_major": 2,
       "version_minor": 0
      },
      "text/plain": [
       "FloatProgress(value=0.0, bar_style='info', description='Progress:', layout=Layout(height='25px', width='50%'),…"
      ]
     },
     "metadata": {},
     "output_type": "display_data"
    }
   ],
   "source": [
    "# Busca la tabla X del dataset Y \n",
    "db = spark.sql(\"select * from `db-taller1`.trabajo1\")"
   ]
  },
  {
   "cell_type": "code",
   "execution_count": 14,
   "id": "4add887d",
   "metadata": {},
   "outputs": [
    {
     "data": {
      "application/vnd.jupyter.widget-view+json": {
       "model_id": "",
       "version_major": 2,
       "version_minor": 0
      },
      "text/plain": [
       "FloatProgress(value=0.0, bar_style='info', description='Progress:', layout=Layout(height='25px', width='50%'),…"
      ]
     },
     "metadata": {},
     "output_type": "display_data"
    },
    {
     "name": "stdout",
     "output_type": "stream",
     "text": [
      "+-----------+--------------------+---------+-------------+------------+--------------------+-----------+---------+---------+----+----+-----+----+-----------------+\n",
      "|domain_code|              domain|area_code|         area|element_code|             element|months_code|   months|year_code|year|unit|value|flag| flag_description|\n",
      "+-----------+--------------------+---------+-------------+------------+--------------------+-----------+---------+---------+----+----+-----+----+-----------------+\n",
      "|Domain Code|              Domain|     null|         Area|        null|             Element|       null|   Months|     null|null|Unit| null|Flag| Flag Description|\n",
      "|       \"ET\"|\"Temperature change\"|     null|\"Afghanistan\"|        null|\"Temperature change\"|       null|\"January\"|     null|null|\"?C\"| null|\"Fc\"|\"Calculated data\"|\n",
      "|       \"ET\"|\"Temperature change\"|     null|\"Afghanistan\"|        null|\"Temperature change\"|       null|\"January\"|     null|null|\"?C\"| null|\"Fc\"|\"Calculated data\"|\n",
      "|       \"ET\"|\"Temperature change\"|     null|\"Afghanistan\"|        null|\"Temperature change\"|       null|\"January\"|     null|null|\"?C\"| null|\"Fc\"|\"Calculated data\"|\n",
      "|       \"ET\"|\"Temperature change\"|     null|\"Afghanistan\"|        null|\"Temperature change\"|       null|\"January\"|     null|null|\"?C\"| null|\"Fc\"|\"Calculated data\"|\n",
      "|       \"ET\"|\"Temperature change\"|     null|\"Afghanistan\"|        null|\"Temperature change\"|       null|\"January\"|     null|null|\"?C\"| null|\"Fc\"|\"Calculated data\"|\n",
      "|       \"ET\"|\"Temperature change\"|     null|\"Afghanistan\"|        null|\"Temperature change\"|       null|\"January\"|     null|null|\"?C\"| null|\"Fc\"|\"Calculated data\"|\n",
      "|       \"ET\"|\"Temperature change\"|     null|\"Afghanistan\"|        null|\"Temperature change\"|       null|\"January\"|     null|null|\"?C\"| null|\"Fc\"|\"Calculated data\"|\n",
      "|       \"ET\"|\"Temperature change\"|     null|\"Afghanistan\"|        null|\"Temperature change\"|       null|\"January\"|     null|null|\"?C\"| null|\"Fc\"|\"Calculated data\"|\n",
      "|       \"ET\"|\"Temperature change\"|     null|\"Afghanistan\"|        null|\"Temperature change\"|       null|\"January\"|     null|null|\"?C\"| null|\"Fc\"|\"Calculated data\"|\n",
      "|       \"ET\"|\"Temperature change\"|     null|\"Afghanistan\"|        null|\"Temperature change\"|       null|\"January\"|     null|null|\"?C\"| null|\"Fc\"|\"Calculated data\"|\n",
      "|       \"ET\"|\"Temperature change\"|     null|\"Afghanistan\"|        null|\"Temperature change\"|       null|\"January\"|     null|null|\"?C\"| null|\"Fc\"|\"Calculated data\"|\n",
      "|       \"ET\"|\"Temperature change\"|     null|\"Afghanistan\"|        null|\"Temperature change\"|       null|\"January\"|     null|null|\"?C\"| null|\"Fc\"|\"Calculated data\"|\n",
      "|       \"ET\"|\"Temperature change\"|     null|\"Afghanistan\"|        null|\"Temperature change\"|       null|\"January\"|     null|null|\"?C\"| null|\"Fc\"|\"Calculated data\"|\n",
      "|       \"ET\"|\"Temperature change\"|     null|\"Afghanistan\"|        null|\"Temperature change\"|       null|\"January\"|     null|null|\"?C\"| null|\"Fc\"|\"Calculated data\"|\n",
      "|       \"ET\"|\"Temperature change\"|     null|\"Afghanistan\"|        null|\"Temperature change\"|       null|\"January\"|     null|null|\"?C\"| null|\"Fc\"|\"Calculated data\"|\n",
      "|       \"ET\"|\"Temperature change\"|     null|\"Afghanistan\"|        null|\"Temperature change\"|       null|\"January\"|     null|null|\"?C\"| null|\"Fc\"|\"Calculated data\"|\n",
      "|       \"ET\"|\"Temperature change\"|     null|\"Afghanistan\"|        null|\"Temperature change\"|       null|\"January\"|     null|null|\"?C\"| null|\"Fc\"|\"Calculated data\"|\n",
      "|       \"ET\"|\"Temperature change\"|     null|\"Afghanistan\"|        null|\"Temperature change\"|       null|\"January\"|     null|null|\"?C\"| null|\"Fc\"|\"Calculated data\"|\n",
      "|       \"ET\"|\"Temperature change\"|     null|\"Afghanistan\"|        null|\"Temperature change\"|       null|\"January\"|     null|null|\"?C\"| null|\"Fc\"|\"Calculated data\"|\n",
      "+-----------+--------------------+---------+-------------+------------+--------------------+-----------+---------+---------+----+----+-----+----+-----------------+\n",
      "only showing top 20 rows"
     ]
    }
   ],
   "source": [
    "# Muestra la tabla de arriba\n",
    "db.show()"
   ]
  },
  {
   "cell_type": "code",
   "execution_count": 9,
   "id": "9ebf0fa5",
   "metadata": {},
   "outputs": [
    {
     "data": {
      "application/vnd.jupyter.widget-view+json": {
       "model_id": "",
       "version_major": 2,
       "version_minor": 0
      },
      "text/plain": [
       "FloatProgress(value=0.0, bar_style='info', description='Progress:', layout=Layout(height='25px', width='50%'),…"
      ]
     },
     "metadata": {},
     "output_type": "display_data"
    },
    {
     "name": "stdout",
     "output_type": "stream",
     "text": [
      "+-----------+------------------+---------------+-----------+------------+------------------+-----------+-------+---------+----+----+------+----+----------------+\n",
      "|Domain Code|            Domain|Area Code (FAO)|       Area|Element Code|           Element|Months Code| Months|Year Code|Year|Unit| Value|Flag|Flag Description|\n",
      "+-----------+------------------+---------------+-----------+------------+------------------+-----------+-------+---------+----+----+------+----+----------------+\n",
      "|         ET|Temperature change|              2|Afghanistan|        7271|Temperature change|       7001|January|     1961|1961|  ?C| 0.746|  Fc| Calculated data|\n",
      "|         ET|Temperature change|              2|Afghanistan|        7271|Temperature change|       7001|January|     1962|1962|  ?C| 0.009|  Fc| Calculated data|\n",
      "|         ET|Temperature change|              2|Afghanistan|        7271|Temperature change|       7001|January|     1963|1963|  ?C| 2.695|  Fc| Calculated data|\n",
      "|         ET|Temperature change|              2|Afghanistan|        7271|Temperature change|       7001|January|     1964|1964|  ?C|-5.277|  Fc| Calculated data|\n",
      "|         ET|Temperature change|              2|Afghanistan|        7271|Temperature change|       7001|January|     1965|1965|  ?C| 1.827|  Fc| Calculated data|\n",
      "|         ET|Temperature change|              2|Afghanistan|        7271|Temperature change|       7001|January|     1966|1966|  ?C| 3.629|  Fc| Calculated data|\n",
      "|         ET|Temperature change|              2|Afghanistan|        7271|Temperature change|       7001|January|     1967|1967|  ?C|-1.436|  Fc| Calculated data|\n",
      "|         ET|Temperature change|              2|Afghanistan|        7271|Temperature change|       7001|January|     1968|1968|  ?C| 0.388|  Fc| Calculated data|\n",
      "|         ET|Temperature change|              2|Afghanistan|        7271|Temperature change|       7001|January|     1969|1969|  ?C| -2.26|  Fc| Calculated data|\n",
      "|         ET|Temperature change|              2|Afghanistan|        7271|Temperature change|       7001|January|     1970|1970|  ?C| 0.813|  Fc| Calculated data|\n",
      "|         ET|Temperature change|              2|Afghanistan|        7271|Temperature change|       7001|January|     1971|1971|  ?C|-1.483|  Fc| Calculated data|\n",
      "|         ET|Temperature change|              2|Afghanistan|        7271|Temperature change|       7001|January|     1972|1972|  ?C|-1.309|  Fc| Calculated data|\n",
      "|         ET|Temperature change|              2|Afghanistan|        7271|Temperature change|       7001|January|     1973|1973|  ?C|-2.947|  Fc| Calculated data|\n",
      "|         ET|Temperature change|              2|Afghanistan|        7271|Temperature change|       7001|January|     1974|1974|  ?C|-1.227|  Fc| Calculated data|\n",
      "|         ET|Temperature change|              2|Afghanistan|        7271|Temperature change|       7001|January|     1975|1975|  ?C|-0.501|  Fc| Calculated data|\n",
      "|         ET|Temperature change|              2|Afghanistan|        7271|Temperature change|       7001|January|     1976|1976|  ?C| 2.456|  Fc| Calculated data|\n",
      "|         ET|Temperature change|              2|Afghanistan|        7271|Temperature change|       7001|January|     1977|1977|  ?C| -2.93|  Fc| Calculated data|\n",
      "|         ET|Temperature change|              2|Afghanistan|        7271|Temperature change|       7001|January|     1978|1978|  ?C|-0.606|  Fc| Calculated data|\n",
      "|         ET|Temperature change|              2|Afghanistan|        7271|Temperature change|       7001|January|     1979|1979|  ?C| 1.195|  Fc| Calculated data|\n",
      "|         ET|Temperature change|              2|Afghanistan|        7271|Temperature change|       7001|January|     1980|1980|  ?C|-0.314|  Fc| Calculated data|\n",
      "+-----------+------------------+---------------+-----------+------------+------------------+-----------+-------+---------+----+----+------+----+----------------+\n",
      "only showing top 20 rows"
     ]
    }
   ],
   "source": [
    "# Otra forma de cargar conociendo los formatos de las columnas\n",
    "\n",
    "from pyspark.sql import SparkSession\n",
    "\n",
    "# Crear la sesión de Spark\n",
    "spark = SparkSession.builder.appName(\"Cargar CSV desde S3\").getOrCreate()\n",
    "\n",
    "# Ruta del archivo S3\n",
    "s3_path = \"s3://sgonzalg2lab1/trabajo1/Trusted/dataset_taller1.csv\"\n",
    "\n",
    "# Cargar el archivo CSV desde S3 como un DataFrame de Spark\n",
    "df = spark.read.format(\"csv\").option(\"header\", \"true\").option(\"inferSchema\", \"true\").load(s3_path)\n",
    "\n",
    "# Mostrar los primeros registros del DataFrame\n",
    "df.show()"
   ]
  },
  {
   "cell_type": "code",
   "execution_count": 10,
   "id": "0157c970",
   "metadata": {},
   "outputs": [
    {
     "data": {
      "application/vnd.jupyter.widget-view+json": {
       "model_id": "",
       "version_major": 2,
       "version_minor": 0
      },
      "text/plain": [
       "FloatProgress(value=0.0, bar_style='info', description='Progress:', layout=Layout(height='25px', width='50%'),…"
      ]
     },
     "metadata": {},
     "output_type": "display_data"
    },
    {
     "name": "stdout",
     "output_type": "stream",
     "text": [
      "El promedio de la columna 'Value' es: 0.4926255833018091"
     ]
    }
   ],
   "source": [
    "# A partir de aquí, se puede hacer EDA\n",
    "from pyspark.sql import functions as F\n",
    "\n",
    "# Calcular el promedio de la columna 'Value'\n",
    "promedio = df.agg(F.avg(\"Value\").alias(\"Promedio\")).collect()[0][\"Promedio\"]\n",
    "\n",
    "# Mostrar el resultado\n",
    "print(f\"El promedio de la columna 'Value' es: {promedio}\")"
   ]
  },
  {
   "cell_type": "code",
   "execution_count": 20,
   "id": "ba8dbaf3",
   "metadata": {},
   "outputs": [
    {
     "data": {
      "application/vnd.jupyter.widget-view+json": {
       "model_id": "",
       "version_major": 2,
       "version_minor": 0
      },
      "text/plain": [
       "FloatProgress(value=0.0, bar_style='info', description='Progress:', layout=Layout(height='25px', width='50%'),…"
      ]
     },
     "metadata": {},
     "output_type": "display_data"
    },
    {
     "name": "stdout",
     "output_type": "stream",
     "text": [
      "+-------+-----------+------------------+------------------+-----------+------------+------------------+-----------------+---------+------------------+------------------+------+------------------+------+------------------+\n",
      "|summary|Domain Code|            Domain|   Area Code (FAO)|       Area|Element Code|           Element|      Months Code|   Months|         Year Code|              Year|  Unit|             Value|  Flag|  Flag Description|\n",
      "+-------+-----------+------------------+------------------+-----------+------------+------------------+-----------------+---------+------------------+------------------+------+------------------+------+------------------+\n",
      "|  count|     229925|            229925|            229925|     229925|      229925|            229925|           229925|   229925|            229925|            229925|229925|            222012|229925|            229925|\n",
      "|   mean|       null|              null|130.64768946395563|       null|      7271.0|              null|7009.882352941177|     null| 1991.306247689464| 1991.306247689464|  null|0.4926255833018091|  null|              null|\n",
      "| stddev|       null|              null| 76.80900828877998|       null|         0.0|              null|6.037955445748079|     null|17.333252465798427|17.333252465798427|  null| 1.036364334211831|  null|              null|\n",
      "|    min|         ET|Temperature change|                 1|Afghanistan|        7271|Temperature change|             7001|    April|              1961|              1961|    ?C|            -9.303|    Fc|   Calculated data|\n",
      "|    max|         ET|Temperature change|               351|   Zimbabwe|        7271|Temperature change|             7020|September|              2020|              2020|    ?C|            11.759|    NV|Data not available|\n",
      "+-------+-----------+------------------+------------------+-----------+------------+------------------+-----------------+---------+------------------+------------------+------+------------------+------+------------------+"
     ]
    }
   ],
   "source": [
    "df.describe().show(n=20, truncate=True, vertical=False)"
   ]
  },
  {
   "cell_type": "code",
   "execution_count": null,
   "id": "6e96de8f",
   "metadata": {},
   "outputs": [],
   "source": []
  }
 ],
 "metadata": {
  "kernelspec": {
   "display_name": "PySpark",
   "language": "python",
   "name": "pysparkkernel"
  },
  "language_info": {
   "codemirror_mode": {
    "name": "python",
    "version": 3
   },
   "file_extension": ".py",
   "mimetype": "text/x-python",
   "name": "pyspark",
   "pygments_lexer": "python3"
  }
 },
 "nbformat": 4,
 "nbformat_minor": 5
}
